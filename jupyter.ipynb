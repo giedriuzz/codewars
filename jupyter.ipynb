{
 "cells": [
  {
   "cell_type": "code",
   "execution_count": null,
   "metadata": {},
   "outputs": [],
   "source": [
    "# Find the unique number\n",
    "n = [ 1, 1, 1, 2, 1, 1 ] # 2\n",
    "def find_uniq(arr):\n",
    "    a = list(set(arr))\n",
    "    if arr.count(a[0]) == 1:\n",
    "        return a[0]\n",
    "    if arr.count(a[1]) == 1:\n",
    "        return a[1]\n",
    "        \n",
    "    \n",
    "\n",
    "print(find_uniq(n))"
   ]
  },
  {
   "cell_type": "code",
   "execution_count": null,
   "metadata": {},
   "outputs": [],
   "source": [
    "# Odd o Even number\n",
    "a_1 = [4, 2, 2] # odd\n",
    "a_2 = [1, 3, 3] # even\n",
    "def odd_or_even(arr):\n",
    "    a = sum(arr)\n",
    "    if a % 2 == 0:\n",
    "        return 'even'\n",
    "    else:\n",
    "        return 'odd'\n",
    "    print(a)\n",
    "\n",
    "print(odd_or_even(a_1))\n",
    "print(odd_or_even(a_2))"
   ]
  },
  {
   "cell_type": "code",
   "execution_count": 25,
   "metadata": {},
   "outputs": [
    {
     "name": "stdout",
     "output_type": "stream",
     "text": [
      "2\n",
      "c\n"
     ]
    }
   ],
   "source": [
    "# String ends with?\n",
    "# solution('abc', 'bc') # returns true\n",
    "# solution('abc', 'd') # returns false\n",
    "def solution(text, ending):\n",
    "    end = len(ending)\n",
    "    print(end)\n",
    "    txt = text[]\n",
    "    print(txt)\n",
    "    \n",
    "solution('abc', 'bc')"
   ]
  }
 ],
 "metadata": {
  "kernelspec": {
   "display_name": "cafeteria-MqUcxZ9F",
   "language": "python",
   "name": "python3"
  },
  "language_info": {
   "codemirror_mode": {
    "name": "ipython",
    "version": 3
   },
   "file_extension": ".py",
   "mimetype": "text/x-python",
   "name": "python",
   "nbconvert_exporter": "python",
   "pygments_lexer": "ipython3",
   "version": "3.10.6"
  },
  "orig_nbformat": 4
 },
 "nbformat": 4,
 "nbformat_minor": 2
}
